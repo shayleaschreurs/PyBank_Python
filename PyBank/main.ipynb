{
 "cells": [
  {
   "cell_type": "code",
   "execution_count": 73,
   "id": "17691a99-0c8c-4123-8440-04e083b2d15c",
   "metadata": {},
   "outputs": [],
   "source": [
    "import pandas as pd\n",
    "from pathlib import Path\n",
    "import numpy as np"
   ]
  },
  {
   "cell_type": "code",
   "execution_count": null,
   "id": "7dd6ae90-3f20-488a-9e7b-2e83d021ce03",
   "metadata": {},
   "outputs": [],
   "source": [
    "#Define the path"
   ]
  },
  {
   "cell_type": "code",
   "execution_count": 86,
   "id": "39a320ea-352f-44e2-8eb9-091420ef2994",
   "metadata": {},
   "outputs": [],
   "source": [
    "csv_path = Path('budget_data.csv')"
   ]
  },
  {
   "cell_type": "code",
   "execution_count": null,
   "id": "34d1e60f-eeca-4a92-942c-decb805d6022",
   "metadata": {},
   "outputs": [],
   "source": [
    "#Import the data into a Dataframe and define the datafram"
   ]
  },
  {
   "cell_type": "code",
   "execution_count": 88,
   "id": "b8b86c98-0197-4181-9415-fcead7580730",
   "metadata": {},
   "outputs": [],
   "source": [
    "csv_data = pd.read_csv(csv_path)\n"
   ]
  },
  {
   "cell_type": "code",
   "execution_count": null,
   "id": "65828237-a07a-4273-846d-e945b0349c57",
   "metadata": {},
   "outputs": [],
   "source": [
    "#find the total number of months in by using count() funtion with the dataframe"
   ]
  },
  {
   "cell_type": "code",
   "execution_count": 89,
   "id": "02e1cd05-3053-4c2e-bc52-35d8e25e0137",
   "metadata": {},
   "outputs": [
    {
     "name": "stdout",
     "output_type": "stream",
     "text": [
      "86\n"
     ]
    }
   ],
   "source": [
    "Total_Months = csv_data['Date'].count()\n",
    "print(Total_Months)"
   ]
  },
  {
   "cell_type": "code",
   "execution_count": null,
   "id": "6fc12993-2491-475e-9d02-723e074cb86d",
   "metadata": {},
   "outputs": [],
   "source": [
    "#use the .sum() function to add the total of the second column"
   ]
  },
  {
   "cell_type": "code",
   "execution_count": 90,
   "id": "ca223c43-e530-46ff-9c18-e2d93eeb1900",
   "metadata": {},
   "outputs": [
    {
     "name": "stdout",
     "output_type": "stream",
     "text": [
      "$ 38382578\n"
     ]
    }
   ],
   "source": [
    "total = csv_data['Profit/Losses'].sum()\n",
    "print('$',total)"
   ]
  },
  {
   "cell_type": "code",
   "execution_count": null,
   "id": "8b47463a-6dab-4b15-9d53-768a2159d3a3",
   "metadata": {},
   "outputs": [],
   "source": [
    "#i'm compiling the values of profit/loss to a list so i can easily find the difference from value to value"
   ]
  },
  {
   "cell_type": "code",
   "execution_count": 98,
   "id": "3e675d17-e711-40b1-8e3c-ef7ff00c15c6",
   "metadata": {},
   "outputs": [
    {
     "data": {
      "text/plain": [
       "[867884,\n",
       " 984655,\n",
       " 322013,\n",
       " -69417,\n",
       " 310503,\n",
       " 522857,\n",
       " 1033096,\n",
       " 604885,\n",
       " -216386,\n",
       " 477532,\n",
       " 893810,\n",
       " -80353,\n",
       " 779806,\n",
       " -335203,\n",
       " 697845,\n",
       " 793163,\n",
       " 485070,\n",
       " 584122,\n",
       " 62729,\n",
       " 668179,\n",
       " 899906,\n",
       " 834719,\n",
       " 132003,\n",
       " 309978,\n",
       " -755566,\n",
       " 1170593,\n",
       " 252788,\n",
       " 1151518,\n",
       " 817256,\n",
       " 570757,\n",
       " 506702,\n",
       " -1022534,\n",
       " 475062,\n",
       " 779976,\n",
       " 144175,\n",
       " 542494,\n",
       " 359333,\n",
       " 321469,\n",
       " 67780,\n",
       " 471435,\n",
       " 565603,\n",
       " 872480,\n",
       " 789480,\n",
       " 999942,\n",
       " -1196225,\n",
       " 268997,\n",
       " -687986,\n",
       " 1150461,\n",
       " 682458,\n",
       " 617856,\n",
       " 824098,\n",
       " 581943,\n",
       " 132864,\n",
       " 448062,\n",
       " 689161,\n",
       " 800701,\n",
       " 1166643,\n",
       " 947333,\n",
       " 578668,\n",
       " 988505,\n",
       " 1139715,\n",
       " 1029471,\n",
       " 687533,\n",
       " -524626,\n",
       " 158620,\n",
       " 87795,\n",
       " 423389,\n",
       " 840723,\n",
       " 568529,\n",
       " 332067,\n",
       " 989499,\n",
       " 778237,\n",
       " 650000,\n",
       " -1100387,\n",
       " -174946,\n",
       " 757143,\n",
       " 445709,\n",
       " 712961,\n",
       " -1163797,\n",
       " 569899,\n",
       " 768450,\n",
       " 102685,\n",
       " 795914,\n",
       " 60988,\n",
       " 138230,\n",
       " 671099]"
      ]
     },
     "execution_count": 98,
     "metadata": {},
     "output_type": "execute_result"
    }
   ],
   "source": [
    "values = csv_data['Profit/Losses'].tolist()\n",
    "values"
   ]
  },
  {
   "cell_type": "code",
   "execution_count": null,
   "id": "1ec1ae96-f5b4-41ab-90ed-d65d46409137",
   "metadata": {},
   "outputs": [],
   "source": [
    "#i'm using the numpy functin np.diff to find the change from box to box"
   ]
  },
  {
   "cell_type": "code",
   "execution_count": 103,
   "id": "a6f3c7b6-f325-461b-90c2-af526a415d04",
   "metadata": {},
   "outputs": [
    {
     "name": "stdout",
     "output_type": "stream",
     "text": [
      "[ -116771   662642   391430  -379920  -212354  -510239   428211   821271\n",
      "  -693918  -416278   974163  -860159  1115009 -1033048   -95318   308093\n",
      "   -99052   521393  -605450  -231727    65187   702716  -177975  1065544\n",
      " -1926159   917805  -898730   334262   246499    64055  1529236 -1497596\n",
      "  -304914   635801  -398319   183161    37864   253689  -403655   -94168\n",
      "  -306877    83000  -210462  2196167 -1465222   956983 -1838447   468003\n",
      "    64602  -206242   242155   449079  -315198  -241099  -111540  -365942\n",
      "   219310   368665  -409837  -151210   110244   341938  1212159  -683246\n",
      "    70825  -335594  -417334   272194   236462  -657432   211262   128237\n",
      "  1750387  -925441  -932089   311434  -267252  1876758 -1733696  -198551\n",
      "   665765  -693229   734926   -77242  -532869]\n"
     ]
    }
   ],
   "source": [
    "change = -np.diff(values)\n",
    "print(change)"
   ]
  },
  {
   "cell_type": "code",
   "execution_count": null,
   "id": "8aae231d-fb23-4059-93d1-39d65b456ced",
   "metadata": {},
   "outputs": [],
   "source": [
    "#i used len because i had a hunch the first value would be skipped leaving 85 values instead of 86"
   ]
  },
  {
   "cell_type": "code",
   "execution_count": 110,
   "id": "1aea4c1f-99a6-484c-a42a-2238f9caefad",
   "metadata": {},
   "outputs": [
    {
     "data": {
      "text/plain": [
       "85"
      ]
     },
     "execution_count": 110,
     "metadata": {},
     "output_type": "execute_result"
    }
   ],
   "source": [
    "len(change)"
   ]
  },
  {
   "cell_type": "code",
   "execution_count": null,
   "id": "c16b64f1-48fc-412d-a40d-d3a97a56693e",
   "metadata": {},
   "outputs": [],
   "source": [
    "#I divided the sum by 85 and formatted it to 2 decimal places. the answer is close but incorrect. gonna find a new way"
   ]
  },
  {
   "cell_type": "code",
   "execution_count": 119,
   "id": "a12176ce-08f1-466c-a608-b64edd1e3a3d",
   "metadata": {},
   "outputs": [
    {
     "name": "stdout",
     "output_type": "stream",
     "text": [
      "2315.00\n"
     ]
    }
   ],
   "source": [
    "average_change = sum(change) // 85\n",
    "print(\"{:.2f}\".format(average_change))"
   ]
  },
  {
   "cell_type": "code",
   "execution_count": null,
   "id": "78fcecdf-1e16-4eb1-afc8-eb1478793864",
   "metadata": {},
   "outputs": [],
   "source": [
    "#i compiled the datafram into a dictionary"
   ]
  },
  {
   "cell_type": "code",
   "execution_count": 122,
   "id": "58e2bfb0-140a-4d48-a2b0-09a006ce84f2",
   "metadata": {},
   "outputs": [
    {
     "data": {
      "text/plain": [
       "{'Date': {0: 'Jan-2010',\n",
       "  1: 'Feb-2010',\n",
       "  2: 'Mar-2010',\n",
       "  3: 'Apr-2010',\n",
       "  4: 'May-2010',\n",
       "  5: 'Jun-2010',\n",
       "  6: 'Jul-2010',\n",
       "  7: 'Aug-2010',\n",
       "  8: 'Sep-2010',\n",
       "  9: 'Oct-2010',\n",
       "  10: 'Nov-2010',\n",
       "  11: 'Dec-2010',\n",
       "  12: 'Jan-2011',\n",
       "  13: 'Feb-2011',\n",
       "  14: 'Mar-2011',\n",
       "  15: 'Apr-2011',\n",
       "  16: 'May-2011',\n",
       "  17: 'Jun-2011',\n",
       "  18: 'Jul-2011',\n",
       "  19: 'Aug-2011',\n",
       "  20: 'Sep-2011',\n",
       "  21: 'Oct-2011',\n",
       "  22: 'Nov-2011',\n",
       "  23: 'Dec-2011',\n",
       "  24: 'Jan-2012',\n",
       "  25: 'Feb-2012',\n",
       "  26: 'Mar-2012',\n",
       "  27: 'Apr-2012',\n",
       "  28: 'May-2012',\n",
       "  29: 'Jun-2012',\n",
       "  30: 'Jul-2012',\n",
       "  31: 'Aug-2012',\n",
       "  32: 'Sep-2012',\n",
       "  33: 'Oct-2012',\n",
       "  34: 'Nov-2012',\n",
       "  35: 'Dec-2012',\n",
       "  36: 'Jan-2013',\n",
       "  37: 'Feb-2013',\n",
       "  38: 'Mar-2013',\n",
       "  39: 'Apr-2013',\n",
       "  40: 'May-2013',\n",
       "  41: 'Jun-2013',\n",
       "  42: 'Jul-2013',\n",
       "  43: 'Aug-2013',\n",
       "  44: 'Sep-2013',\n",
       "  45: 'Oct-2013',\n",
       "  46: 'Nov-2013',\n",
       "  47: 'Dec-2013',\n",
       "  48: 'Jan-2014',\n",
       "  49: 'Feb-2014',\n",
       "  50: 'Mar-2014',\n",
       "  51: 'Apr-2014',\n",
       "  52: 'May-2014',\n",
       "  53: 'Jun-2014',\n",
       "  54: 'Jul-2014',\n",
       "  55: 'Aug-2014',\n",
       "  56: 'Sep-2014',\n",
       "  57: 'Oct-2014',\n",
       "  58: 'Nov-2014',\n",
       "  59: 'Dec-2014',\n",
       "  60: 'Jan-2015',\n",
       "  61: 'Feb-2015',\n",
       "  62: 'Mar-2015',\n",
       "  63: 'Apr-2015',\n",
       "  64: 'May-2015',\n",
       "  65: 'Jun-2015',\n",
       "  66: 'Jul-2015',\n",
       "  67: 'Aug-2015',\n",
       "  68: 'Sep-2015',\n",
       "  69: 'Oct-2015',\n",
       "  70: 'Nov-2015',\n",
       "  71: 'Dec-2015',\n",
       "  72: 'Jan-2016',\n",
       "  73: 'Feb-2016',\n",
       "  74: 'Mar-2016',\n",
       "  75: 'Apr-2016',\n",
       "  76: 'May-2016',\n",
       "  77: 'Jun-2016',\n",
       "  78: 'Jul-2016',\n",
       "  79: 'Aug-2016',\n",
       "  80: 'Sep-2016',\n",
       "  81: 'Oct-2016',\n",
       "  82: 'Nov-2016',\n",
       "  83: 'Dec-2016',\n",
       "  84: 'Jan-2017',\n",
       "  85: 'Feb-2017'},\n",
       " 'Profit/Losses': {0: 867884,\n",
       "  1: 984655,\n",
       "  2: 322013,\n",
       "  3: -69417,\n",
       "  4: 310503,\n",
       "  5: 522857,\n",
       "  6: 1033096,\n",
       "  7: 604885,\n",
       "  8: -216386,\n",
       "  9: 477532,\n",
       "  10: 893810,\n",
       "  11: -80353,\n",
       "  12: 779806,\n",
       "  13: -335203,\n",
       "  14: 697845,\n",
       "  15: 793163,\n",
       "  16: 485070,\n",
       "  17: 584122,\n",
       "  18: 62729,\n",
       "  19: 668179,\n",
       "  20: 899906,\n",
       "  21: 834719,\n",
       "  22: 132003,\n",
       "  23: 309978,\n",
       "  24: -755566,\n",
       "  25: 1170593,\n",
       "  26: 252788,\n",
       "  27: 1151518,\n",
       "  28: 817256,\n",
       "  29: 570757,\n",
       "  30: 506702,\n",
       "  31: -1022534,\n",
       "  32: 475062,\n",
       "  33: 779976,\n",
       "  34: 144175,\n",
       "  35: 542494,\n",
       "  36: 359333,\n",
       "  37: 321469,\n",
       "  38: 67780,\n",
       "  39: 471435,\n",
       "  40: 565603,\n",
       "  41: 872480,\n",
       "  42: 789480,\n",
       "  43: 999942,\n",
       "  44: -1196225,\n",
       "  45: 268997,\n",
       "  46: -687986,\n",
       "  47: 1150461,\n",
       "  48: 682458,\n",
       "  49: 617856,\n",
       "  50: 824098,\n",
       "  51: 581943,\n",
       "  52: 132864,\n",
       "  53: 448062,\n",
       "  54: 689161,\n",
       "  55: 800701,\n",
       "  56: 1166643,\n",
       "  57: 947333,\n",
       "  58: 578668,\n",
       "  59: 988505,\n",
       "  60: 1139715,\n",
       "  61: 1029471,\n",
       "  62: 687533,\n",
       "  63: -524626,\n",
       "  64: 158620,\n",
       "  65: 87795,\n",
       "  66: 423389,\n",
       "  67: 840723,\n",
       "  68: 568529,\n",
       "  69: 332067,\n",
       "  70: 989499,\n",
       "  71: 778237,\n",
       "  72: 650000,\n",
       "  73: -1100387,\n",
       "  74: -174946,\n",
       "  75: 757143,\n",
       "  76: 445709,\n",
       "  77: 712961,\n",
       "  78: -1163797,\n",
       "  79: 569899,\n",
       "  80: 768450,\n",
       "  81: 102685,\n",
       "  82: 795914,\n",
       "  83: 60988,\n",
       "  84: 138230,\n",
       "  85: 671099}}"
      ]
     },
     "execution_count": 122,
     "metadata": {},
     "output_type": "execute_result"
    }
   ],
   "source": [
    "hi = csv_data.to_dict()\n",
    "hi"
   ]
  },
  {
   "cell_type": "code",
   "execution_count": null,
   "id": "0dcc117a-c7a2-4941-9348-f862b98e18dc",
   "metadata": {},
   "outputs": [],
   "source": []
  }
 ],
 "metadata": {
  "kernelspec": {
   "display_name": "Python 3 (ipykernel)",
   "language": "python",
   "name": "python3"
  },
  "language_info": {
   "codemirror_mode": {
    "name": "ipython",
    "version": 3
   },
   "file_extension": ".py",
   "mimetype": "text/x-python",
   "name": "python",
   "nbconvert_exporter": "python",
   "pygments_lexer": "ipython3",
   "version": "3.9.12"
  }
 },
 "nbformat": 4,
 "nbformat_minor": 5
}
