{
 "cells": [
  {
   "cell_type": "code",
   "execution_count": 1,
   "id": "17691a99-0c8c-4123-8440-04e083b2d15c",
   "metadata": {},
   "outputs": [],
   "source": [
    "import pandas as pd\n",
    "from pathlib import Path\n",
    "import csv"
   ]
  },
  {
   "cell_type": "code",
   "execution_count": null,
   "id": "7dd6ae90-3f20-488a-9e7b-2e83d021ce03",
   "metadata": {},
   "outputs": [],
   "source": [
    "#Define the path and define a variable to read a csv"
   ]
  },
  {
   "cell_type": "code",
   "execution_count": 2,
   "id": "39a320ea-352f-44e2-8eb9-091420ef2994",
   "metadata": {},
   "outputs": [],
   "source": [
    "csv_path = Path('budget_data.csv')\n",
    "csv_data = pd.read_csv(csv_path)"
   ]
  },
  {
   "cell_type": "code",
   "execution_count": null,
   "id": "5ae29206-da27-4cf9-8d6a-58bc46022464",
   "metadata": {},
   "outputs": [],
   "source": [
    "#find total months in the dataframe"
   ]
  },
  {
   "cell_type": "code",
   "execution_count": 3,
   "id": "4596287b-538d-45d6-b7d4-19f1555042f4",
   "metadata": {},
   "outputs": [
    {
     "name": "stdout",
     "output_type": "stream",
     "text": [
      "86\n"
     ]
    }
   ],
   "source": [
    "total_months = csv_data['Date'].count()\n",
    "print(total_months)"
   ]
  },
  {
   "cell_type": "code",
   "execution_count": null,
   "id": "d6bfabf4-d0da-4b4e-bd47-7b66f2655dce",
   "metadata": {},
   "outputs": [],
   "source": [
    "#find the sum of all the values "
   ]
  },
  {
   "cell_type": "code",
   "execution_count": 9,
   "id": "114cb512-de8d-48b7-b6d4-0a64057eeae6",
   "metadata": {},
   "outputs": [
    {
     "name": "stdout",
     "output_type": "stream",
     "text": [
      "38382578\n"
     ]
    }
   ],
   "source": [
    "total = csv_data['Profit/Losses'].sum()\n",
    "print(total)"
   ]
  },
  {
   "cell_type": "code",
   "execution_count": null,
   "id": "34d1e60f-eeca-4a92-942c-decb805d6022",
   "metadata": {},
   "outputs": [],
   "source": [
    "#open and read the csv file as a specified file name, define a variable to read the file, skip the header to get only the values, put month and profit/loss values into a dictionary"
   ]
  },
  {
   "cell_type": "code",
   "execution_count": 4,
   "id": "b8b86c98-0197-4181-9415-fcead7580730",
   "metadata": {},
   "outputs": [
    {
     "name": "stdout",
     "output_type": "stream",
     "text": [
      "{'Jan-2010': '867884', 'Feb-2010': '984655', 'Mar-2010': '322013', 'Apr-2010': '-69417', 'May-2010': '310503', 'Jun-2010': '522857', 'Jul-2010': '1033096', 'Aug-2010': '604885', 'Sep-2010': '-216386', 'Oct-2010': '477532', 'Nov-2010': '893810', 'Dec-2010': '-80353', 'Jan-2011': '779806', 'Feb-2011': '-335203', 'Mar-2011': '697845', 'Apr-2011': '793163', 'May-2011': '485070', 'Jun-2011': '584122', 'Jul-2011': '62729', 'Aug-2011': '668179', 'Sep-2011': '899906', 'Oct-2011': '834719', 'Nov-2011': '132003', 'Dec-2011': '309978', 'Jan-2012': '-755566', 'Feb-2012': '1170593', 'Mar-2012': '252788', 'Apr-2012': '1151518', 'May-2012': '817256', 'Jun-2012': '570757', 'Jul-2012': '506702', 'Aug-2012': '-1022534', 'Sep-2012': '475062', 'Oct-2012': '779976', 'Nov-2012': '144175', 'Dec-2012': '542494', 'Jan-2013': '359333', 'Feb-2013': '321469', 'Mar-2013': '67780', 'Apr-2013': '471435', 'May-2013': '565603', 'Jun-2013': '872480', 'Jul-2013': '789480', 'Aug-2013': '999942', 'Sep-2013': '-1196225', 'Oct-2013': '268997', 'Nov-2013': '-687986', 'Dec-2013': '1150461', 'Jan-2014': '682458', 'Feb-2014': '617856', 'Mar-2014': '824098', 'Apr-2014': '581943', 'May-2014': '132864', 'Jun-2014': '448062', 'Jul-2014': '689161', 'Aug-2014': '800701', 'Sep-2014': '1166643', 'Oct-2014': '947333', 'Nov-2014': '578668', 'Dec-2014': '988505', 'Jan-2015': '1139715', 'Feb-2015': '1029471', 'Mar-2015': '687533', 'Apr-2015': '-524626', 'May-2015': '158620', 'Jun-2015': '87795', 'Jul-2015': '423389', 'Aug-2015': '840723', 'Sep-2015': '568529', 'Oct-2015': '332067', 'Nov-2015': '989499', 'Dec-2015': '778237', 'Jan-2016': '650000', 'Feb-2016': '-1100387', 'Mar-2016': '-174946', 'Apr-2016': '757143', 'May-2016': '445709', 'Jun-2016': '712961', 'Jul-2016': '-1163797', 'Aug-2016': '569899', 'Sep-2016': '768450', 'Oct-2016': '102685', 'Nov-2016': '795914', 'Dec-2016': '60988', 'Jan-2017': '138230', 'Feb-2017': '671099'}\n"
     ]
    }
   ],
   "source": [
    "with open (csv_path, \"r\") as csv_file:\n",
    "    budget_reader = csv.reader(csv_file, delimiter = \",\")\n",
    "    header = next(budget_reader)\n",
    "    budget = dict(budget_reader)\n",
    "    print(budget)"
   ]
  },
  {
   "cell_type": "code",
   "execution_count": null,
   "id": "f7eac7b1-0420-4072-a2a8-cb60f9a40ed6",
   "metadata": {},
   "outputs": [],
   "source": [
    "#define previous month as 0, make a for loop to caluclate the change from month to month; define the integer value for each iteration as this_month, define the difference of one month from previous month, define the first value as 0 to make sure the change is accurate "
   ]
  },
  {
   "cell_type": "code",
   "execution_count": 11,
   "id": "65828237-a07a-4273-846d-e945b0349c57",
   "metadata": {},
   "outputs": [
    {
     "name": "stdout",
     "output_type": "stream",
     "text": [
      "{'Jan-2010': 0, 'Feb-2010': 116771, 'Mar-2010': -662642, 'Apr-2010': -391430, 'May-2010': 379920, 'Jun-2010': 212354, 'Jul-2010': 510239, 'Aug-2010': -428211, 'Sep-2010': -821271, 'Oct-2010': 693918, 'Nov-2010': 416278, 'Dec-2010': -974163, 'Jan-2011': 860159, 'Feb-2011': -1115009, 'Mar-2011': 1033048, 'Apr-2011': 95318, 'May-2011': -308093, 'Jun-2011': 99052, 'Jul-2011': -521393, 'Aug-2011': 605450, 'Sep-2011': 231727, 'Oct-2011': -65187, 'Nov-2011': -702716, 'Dec-2011': 177975, 'Jan-2012': -1065544, 'Feb-2012': 1926159, 'Mar-2012': -917805, 'Apr-2012': 898730, 'May-2012': -334262, 'Jun-2012': -246499, 'Jul-2012': -64055, 'Aug-2012': -1529236, 'Sep-2012': 1497596, 'Oct-2012': 304914, 'Nov-2012': -635801, 'Dec-2012': 398319, 'Jan-2013': -183161, 'Feb-2013': -37864, 'Mar-2013': -253689, 'Apr-2013': 403655, 'May-2013': 94168, 'Jun-2013': 306877, 'Jul-2013': -83000, 'Aug-2013': 210462, 'Sep-2013': -2196167, 'Oct-2013': 1465222, 'Nov-2013': -956983, 'Dec-2013': 1838447, 'Jan-2014': -468003, 'Feb-2014': -64602, 'Mar-2014': 206242, 'Apr-2014': -242155, 'May-2014': -449079, 'Jun-2014': 315198, 'Jul-2014': 241099, 'Aug-2014': 111540, 'Sep-2014': 365942, 'Oct-2014': -219310, 'Nov-2014': -368665, 'Dec-2014': 409837, 'Jan-2015': 151210, 'Feb-2015': -110244, 'Mar-2015': -341938, 'Apr-2015': -1212159, 'May-2015': 683246, 'Jun-2015': -70825, 'Jul-2015': 335594, 'Aug-2015': 417334, 'Sep-2015': -272194, 'Oct-2015': -236462, 'Nov-2015': 657432, 'Dec-2015': -211262, 'Jan-2016': -128237, 'Feb-2016': -1750387, 'Mar-2016': 925441, 'Apr-2016': 932089, 'May-2016': -311434, 'Jun-2016': 267252, 'Jul-2016': -1876758, 'Aug-2016': 1733696, 'Sep-2016': 198551, 'Oct-2016': -665765, 'Nov-2016': 693229, 'Dec-2016': -734926, 'Jan-2017': 77242, 'Feb-2017': 532869}\n"
     ]
    }
   ],
   "source": [
    "previous_month = 0\n",
    "change = ({})\n",
    "for key in budget:\n",
    "    this_month = int(budget[key])\n",
    "    change[key] = this_month - previous_month\n",
    "    previous_month = this_month\n",
    "change['Jan-2010'] = 0\n",
    "print(change)"
   ]
  },
  {
   "cell_type": "code",
   "execution_count": null,
   "id": "23e79559-c771-4582-a127-ba93ad52efc3",
   "metadata": {},
   "outputs": [],
   "source": [
    "#create a variable equal to 0,create a for loop to find the sum of all the values, divide sum by total months minus 1 to account for the 0 value first month"
   ]
  },
  {
   "cell_type": "code",
   "execution_count": 49,
   "id": "7c3f36f8-8ede-44ed-a922-2a2d81c8ab69",
   "metadata": {},
   "outputs": [
    {
     "name": "stdout",
     "output_type": "stream",
     "text": [
      "-2315.1176470588234\n",
      "-2315.12\n"
     ]
    }
   ],
   "source": [
    "total_values = 0\n",
    "for diff in change:\n",
    "    total_values += change[diff]\n",
    "average_change = total_values/(total_months-1)\n",
    "print(average_change)\n",
    "average_change_fmt = \"{:.2f}\".format(average_change)\n",
    "print(average_change_fmt)"
   ]
  },
  {
   "cell_type": "code",
   "execution_count": null,
   "id": "93e375f5-4364-4cce-92dd-e9fab5df1217",
   "metadata": {},
   "outputs": [],
   "source": [
    "# find the maximum value within the change dictionary along with the date"
   ]
  },
  {
   "cell_type": "code",
   "execution_count": 29,
   "id": "801fd050-ffd3-455d-8c75-82c5ec1f94a8",
   "metadata": {},
   "outputs": [
    {
     "name": "stdout",
     "output_type": "stream",
     "text": [
      "Feb-2012 1926159\n"
     ]
    }
   ],
   "source": [
    "max_value = max(change.values())\n",
    "max_key = max(change, key=change.get)\n",
    "print(max_key, max_value)"
   ]
  },
  {
   "cell_type": "code",
   "execution_count": null,
   "id": "32861b2a-0807-4a86-b60d-c49680117628",
   "metadata": {},
   "outputs": [],
   "source": [
    "# basically do the same as above but with the smallest value"
   ]
  },
  {
   "cell_type": "code",
   "execution_count": 27,
   "id": "6ac558f2-7240-42ee-9c53-bcfdc2704c71",
   "metadata": {},
   "outputs": [
    {
     "name": "stdout",
     "output_type": "stream",
     "text": [
      "Sep-2013 -2196167\n"
     ]
    }
   ],
   "source": [
    "min_value = min(change.values())\n",
    "min_key = min(change, key=change.get)\n",
    "print(min_key, min_value)"
   ]
  },
  {
   "cell_type": "code",
   "execution_count": 30,
   "id": "a9648b07-25f1-438f-851a-86528934fb42",
   "metadata": {},
   "outputs": [],
   "source": [
    "# finsih with open by writing it to a .txt file type"
   ]
  },
  {
   "cell_type": "code",
   "execution_count": 58,
   "id": "b3304fe7-c886-43d6-a69b-f63f6da404f3",
   "metadata": {},
   "outputs": [],
   "source": [
    "txt_path = Path(\"pybank.txt\")\n",
    "with open(txt_path, \"w\") as txtfile:\n",
    "    txtfile.write(\"Financial Analysis\")\n",
    "    txtfile.write(\"\\n\")\n",
    "    txtfile.write(\"-------------------\")\n",
    "    txtfile.write(\"\\n\")\n",
    "    txtfile.write(f\"Total Months:                      {total_months}\")\n",
    "    txtfile.write(\"\\n\")\n",
    "    txtfile.write(f\"Total:                             ${total}\")\n",
    "    txtfile.write(\"\\n\")\n",
    "    txtfile.write(f\"Average Change:                    ${average_change_fmt}\")\n",
    "    txtfile.write(\"\\n\")\n",
    "    txtfile.write(f\"Greatest Increase In Profits:      {max_key} {max_value}\") \n",
    "    txtfile.write(\"\\n\")\n",
    "    txtfile.write(f\"Greatest Decrease In Profits:      {min_key} {min_value}\")\n",
    "\n",
    "    "
   ]
  },
  {
   "cell_type": "code",
   "execution_count": null,
   "id": "01e63287-f44b-411d-b942-f05a749f55da",
   "metadata": {},
   "outputs": [],
   "source": [
    "#print"
   ]
  },
  {
   "cell_type": "code",
   "execution_count": 57,
   "id": "1d127382-50a2-4f72-a43c-cc3117b9170e",
   "metadata": {},
   "outputs": [
    {
     "name": "stdout",
     "output_type": "stream",
     "text": [
      "Financial Analysis\n",
      "-------------------\n",
      "Total Months:                      86\n",
      "Total:                             $38382578\n",
      "Average Change:                    $-2315.12\n",
      "Greatest Increase In Profits:      Feb-2012 1926159\n",
      "Greatest Decrease In Profits:      Sep-2013 -2196167\n"
     ]
    }
   ],
   "source": [
    "print(\"Financial Analysis\")\n",
    "print(\"-------------------\")\n",
    "print(f\"Total Months:                      {total_months}\")\n",
    "print(f\"Total:                             ${total}\")\n",
    "print(f\"Average Change:                    ${average_change_fmt}\")\n",
    "print(f\"Greatest Increase In Profits:      {max_key} {max_value}\")    \n",
    "print(f\"Greatest Decrease In Profits:      {min_key} {min_value}\")"
   ]
  },
  {
   "cell_type": "code",
   "execution_count": null,
   "id": "3e2edcda-92d3-48d4-bb50-09c1e088dd94",
   "metadata": {},
   "outputs": [],
   "source": []
  }
 ],
 "metadata": {
  "kernelspec": {
   "display_name": "Python 3 (ipykernel)",
   "language": "python",
   "name": "python3"
  },
  "language_info": {
   "codemirror_mode": {
    "name": "ipython",
    "version": 3
   },
   "file_extension": ".py",
   "mimetype": "text/x-python",
   "name": "python",
   "nbconvert_exporter": "python",
   "pygments_lexer": "ipython3",
   "version": "3.9.12"
  }
 },
 "nbformat": 4,
 "nbformat_minor": 5
}
