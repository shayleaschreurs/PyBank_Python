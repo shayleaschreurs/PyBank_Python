{
 "cells": [
  {
   "cell_type": "code",
   "execution_count": 1,
   "id": "17691a99-0c8c-4123-8440-04e083b2d15c",
   "metadata": {},
   "outputs": [],
   "source": [
    "import pandas as pd\n",
    "from pathlib import Path"
   ]
  },
  {
   "cell_type": "code",
   "execution_count": 6,
   "id": "39a320ea-352f-44e2-8eb9-091420ef2994",
   "metadata": {},
   "outputs": [],
   "source": [
    "csv_path = Path('budget_data.csv')"
   ]
  },
  {
   "cell_type": "code",
   "execution_count": 7,
   "id": "b8b86c98-0197-4181-9415-fcead7580730",
   "metadata": {},
   "outputs": [],
   "source": [
    "csv_data = pd.read_csv(csv_path)"
   ]
  },
  {
   "cell_type": "code",
   "execution_count": 20,
   "id": "02e1cd05-3053-4c2e-bc52-35d8e25e0137",
   "metadata": {},
   "outputs": [
    {
     "data": {
      "text/plain": [
       "86"
      ]
     },
     "execution_count": 20,
     "metadata": {},
     "output_type": "execute_result"
    }
   ],
   "source": [
    "csv_data['Date'].count()"
   ]
  },
  {
   "cell_type": "code",
   "execution_count": 19,
   "id": "ca223c43-e530-46ff-9c18-e2d93eeb1900",
   "metadata": {},
   "outputs": [
    {
     "name": "stdout",
     "output_type": "stream",
     "text": [
      "38382578\n"
     ]
    }
   ],
   "source": [
    "total = csv_data['Profit/Losses'].sum()\n",
    "print(total)"
   ]
  },
  {
   "cell_type": "code",
   "execution_count": null,
   "id": "c785cc9c-dbe9-472a-9fa4-0ab6323182b6",
   "metadata": {},
   "outputs": [],
   "source": []
  }
 ],
 "metadata": {
  "kernelspec": {
   "display_name": "Python 3 (ipykernel)",
   "language": "python",
   "name": "python3"
  },
  "language_info": {
   "codemirror_mode": {
    "name": "ipython",
    "version": 3
   },
   "file_extension": ".py",
   "mimetype": "text/x-python",
   "name": "python",
   "nbconvert_exporter": "python",
   "pygments_lexer": "ipython3",
   "version": "3.9.12"
  }
 },
 "nbformat": 4,
 "nbformat_minor": 5
}
